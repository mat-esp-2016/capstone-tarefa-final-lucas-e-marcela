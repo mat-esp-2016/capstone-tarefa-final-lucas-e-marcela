{
 "cells": [
  {
   "cell_type": "markdown",
   "metadata": {},
   "source": [
    "# Capstone: Analisando a temperatura do Brasil\n",
    "\n",
    "Nessa prática iremos juntar os conhecimentos que vimos durante toda a matéria. Vamos analisar os dados de temperatura do Brasil que vimos nas aulas de Python. Vamos utilizar uma [regressão linear](https://pt.wikipedia.org/wiki/Regress%C3%A3o_linear) para estimar a taxa de variação da temperatura ao longo dos anos. Finalmente, vamos visualizar esses valores em um mapa do Brasil.\n",
    "\n",
    "Faremos funções para cada etapa para podermos testar as partes do nosso código separadamente."
   ]
  },
  {
   "cell_type": "markdown",
   "metadata": {},
   "source": [
    "## Setup\n",
    "\n",
    "Abaixo, vamos carregar todas as bibliotecas que precisamos:\n",
    "\n",
    "* `numpy` para fazer contas com matrizes e vetores\n",
    "* `maptlotlib.pyplot` para fazer gráficos\n",
    "* `mpl_toolkits.basemap` para fazer mapas\n",
    "* `scipy.stats` para a regressão linear\n",
    "* `glob` para descobrir os nomes de todos os arquivos em uma pasta"
   ]
  },
  {
   "cell_type": "code",
   "execution_count": 19,
   "metadata": {
    "collapsed": false
   },
   "outputs": [],
   "source": [
    "%matplotlib inline\n",
    "import numpy as np\n",
    "import matplotlib.pyplot as plt\n",
    "from mpl_toolkits.basemap import Basemap\n",
    "from scipy.stats import linregress\n",
    "from glob import glob\n",
    "#Importando bibliotecas necessarias para confecção do código."
   ]
  },
  {
   "cell_type": "markdown",
   "metadata": {},
   "source": [
    "<div class=\"alert text-center\" style=\"font-size: 16pt\">\n",
    "Diferente das outras práticas, eu vou preecher o código inicial ao vivo durante a aula. \n",
    "<br><br>\n",
    "Façam junto comigo para não se perderem.\n",
    "</div>"
   ]
  },
  {
   "cell_type": "code",
   "execution_count": 20,
   "metadata": {
    "collapsed": false
   },
   "outputs": [],
   "source": [
    "def le_lat_long(nome_arquivo):\n",
    "    #Função para buscar e ler, latitude e longitude no arquivo \"dados\".\n",
    "    arquivo = open(nome_arquivo)\n",
    "    for linhas in range(0,5):\n",
    "        linha = arquivo.readline()\n",
    "    lat = -float(linha.split()[1])\n",
    "    lon = -float(linha.split()[3])\n",
    "    return lat, lon"
   ]
  },
  {
   "cell_type": "code",
   "execution_count": 21,
   "metadata": {
    "collapsed": false
   },
   "outputs": [
    {
     "name": "stdout",
     "output_type": "stream",
     "text": [
      "-0.8 -49.02\n"
     ]
    }
   ],
   "source": [
    "lat, lon = le_lat_long('dados/0.80S-49.02W-TAVG-Trend.txt')\n",
    "print(lat, lon)\n",
    "#Testando função que busca e le os \"dados\" e retorna valores de latitude e longitude. "
   ]
  },
  {
   "cell_type": "code",
   "execution_count": 22,
   "metadata": {
    "collapsed": true
   },
   "outputs": [],
   "source": [
    "def le_temp_abs(nome_arquivo):\n",
    "    #Função para buscar e ler, valores de temperatura absoluta no arquivo \"dados\".\n",
    "    arquivo = open(nome_arquivo)\n",
    "    for linhas in range(0,48):\n",
    "        linha = arquivo.readline()\n",
    "    partes = linha.split()\n",
    "    temp_abs = float(partes[-3])\n",
    "    return temp_abs"
   ]
  },
  {
   "cell_type": "code",
   "execution_count": 23,
   "metadata": {
    "collapsed": false
   },
   "outputs": [
    {
     "name": "stdout",
     "output_type": "stream",
     "text": [
      "26.74\n"
     ]
    }
   ],
   "source": [
    "temp_abs = le_temp_abs('dados/0.80S-49.02W-TAVG-Trend.txt')\n",
    "print(temp_abs)\n",
    "#Testando função que busca e le os \"dados\" e retorna valor de tamperatura absoluta."
   ]
  },
  {
   "cell_type": "code",
   "execution_count": 24,
   "metadata": {
    "collapsed": true
   },
   "outputs": [],
   "source": [
    "def le_anos_anomalias(nome_arquivo):\n",
    "    #Função para buscar e ler, valores de anomalias anuais.\n",
    "    dados = np.loadtxt(nome_arquivo, comments = '%')\n",
    "    ano = dados[:,0]\n",
    "    mes = dados[:,1]\n",
    "    anos_decimais = ano + ((mes-1)/12)\n",
    "    anomalia = dados[:,4]\n",
    "    return anos_decimais, anomalia\n",
    "    "
   ]
  },
  {
   "cell_type": "code",
   "execution_count": 25,
   "metadata": {
    "collapsed": false
   },
   "outputs": [
    {
     "name": "stdout",
     "output_type": "stream",
     "text": [
      "[ 1845.          1845.08333333  1845.16666667 ...,  2013.5         2013.58333333\n",
      "  2013.66666667] [   nan    nan -0.872 ...,    nan    nan    nan]\n"
     ]
    }
   ],
   "source": [
    "anos, anom = le_anos_anomalias('dados/0.80S-49.02W-TAVG-Trend.txt')\n",
    "print(anos, anom)\n",
    "#Testando função que busca e le os \"dados\" e retorna valores de anomalias anuais."
   ]
  },
  {
   "cell_type": "code",
   "execution_count": 26,
   "metadata": {
    "collapsed": false
   },
   "outputs": [
    {
     "data": {
      "text/plain": [
       "[<matplotlib.lines.Line2D at 0x245770bd080>]"
      ]
     },
     "execution_count": 26,
     "metadata": {},
     "output_type": "execute_result"
    },
    {
     "data": {
      "image/png": "[encoded data removed]",
      "text/plain": [
       "<matplotlib.figure.Figure at 0x24576758240>"
      ]
     },
     "metadata": {},
     "output_type": "display_data"
    }
   ],
   "source": [
    "plt.figure()\n",
    "plt.plot(anos, anom, '-k')"
   ]
  },
  {
   "cell_type": "code",
   "execution_count": 27,
   "metadata": {
    "collapsed": true
   },
   "outputs": [],
   "source": [
    "def cal_temp_real(nome_arquivo):\n",
    "    #Função que calcula a temperatura real a partir das anomalias anuais e da temp absoluta.\n",
    "    anos, anom = le_anos_anomalias(nome_arquivo)\n",
    "    temp_abs = le_temp_abs(nome_arquivo)\n",
    "    temperatura = anom + temp_abs\n",
    "    return (anos, temperatura)"
   ]
  },
  {
   "cell_type": "code",
   "execution_count": 28,
   "metadata": {
    "collapsed": false
   },
   "outputs": [
    {
     "name": "stdout",
     "output_type": "stream",
     "text": [
      "[ 1845.          1845.08333333  1845.16666667 ...,  2013.5         2013.58333333\n",
      "  2013.66666667] [    nan     nan  25.868 ...,     nan     nan     nan]\n"
     ]
    }
   ],
   "source": [
    "anos, temperatura = cal_temp_real('dados/0.80S-49.02W-TAVG-Trend.txt')\n",
    "print(anos, temperatura)\n",
    "#Testando função que retornaa os valores de temperatura real."
   ]
  },
  {
   "cell_type": "code",
   "execution_count": 29,
   "metadata": {
    "collapsed": false
   },
   "outputs": [
    {
     "data": {
      "text/plain": [
       "[<matplotlib.lines.Line2D at 0x245770f6a58>]"
      ]
     },
     "execution_count": 29,
     "metadata": {},
     "output_type": "execute_result"
    },
    {
     "data": {
      "image/png": "[encoded data removed]",
      "text/plain": [
       "<matplotlib.figure.Figure at 0x245767418d0>"
      ]
     },
     "metadata": {},
     "output_type": "display_data"
    }
   ],
   "source": [
    "plt.figure()\n",
    "plt.plot(anos, temperatura, '-k')"
   ]
  },
  {
   "cell_type": "code",
   "execution_count": 30,
   "metadata": {
    "collapsed": false
   },
   "outputs": [],
   "source": [
    "not_nan = ~np.isnan(temperatura)\n",
    "#Retirando os dados \"NANs\"\n",
    "temperatura_sem_nan = temperatura[not_nan]\n",
    "#Criando valores de temperatura sem valores \"NANs\"\n",
    "anos_sem_nan = anos[not_nan]\n",
    "#Criando valores de anos sem valores \"NANs\""
   ]
  },
  {
   "cell_type": "code",
   "execution_count": 31,
   "metadata": {
    "collapsed": true
   },
   "outputs": [],
   "source": [
    "a, b, r_value, p_value, std_err = linregress(anos_sem_nan, temperatura_sem_nan)\n",
    "#Regressão para encontrar a taxa de variação"
   ]
  },
  {
   "cell_type": "code",
   "execution_count": 32,
   "metadata": {
    "collapsed": false
   },
   "outputs": [
    {
     "name": "stdout",
     "output_type": "stream",
     "text": [
      "0.00832160974446\n"
     ]
    }
   ],
   "source": [
    "print(a)\n",
    "#Printando valor da taxa de variação"
   ]
  },
  {
   "cell_type": "code",
   "execution_count": 33,
   "metadata": {
    "collapsed": false
   },
   "outputs": [],
   "source": [
    "arquivos = glob('dados/*.txt')\n",
    "lat_cidade = []\n",
    "lon_cidade = []\n",
    "taxa_de_var_temp = []\n",
    "for arquivo in arquivos:\n",
    "    lat, lon = le_lat_long(arquivo)\n",
    "    le_temp_abs(arquivo)\n",
    "    anos, anom = le_anos_anomalias(arquivo)\n",
    "    anos, temperatura = cal_temp_real(arquivo)\n",
    "    not_nan = ~np.isnan(temperatura)\n",
    "    temperaturas_sem_nan = temperatura[not_nan]\n",
    "    a, b, r_value, p_value, std_err = linregress(anos_sem_nan, temperatura_sem_nan)\n",
    "    lat_cidade.append(lat)\n",
    "    lon_cidade.append(lon)\n",
    "    taxa_de_var_temp.append(a)"
   ]
  },
  {
   "cell_type": "code",
   "execution_count": 34,
   "metadata": {
    "collapsed": false
   },
   "outputs": [
    {
     "name": "stdout",
     "output_type": "stream",
     "text": [
      "[-0.8, -10.45, -13.66, -15.27, -2.41, -20.09, -20.09, -23.31, -23.31, -24.92, -29.74, -4.02]\n",
      "[-49.02, -48.27, -38.81, -47.5, -60.27, -44.36, -54.6, -42.82, -46.31, -49.66, -51.69, -40.98]\n",
      "[0.0083216097444633302, 0.0083216097444633302, 0.0083216097444633302, 0.0083216097444633302, 0.0083216097444633302, 0.0083216097444633302, 0.0083216097444633302, 0.0083216097444633302, 0.0083216097444633302, 0.0083216097444633302, 0.0083216097444633302, 0.0083216097444633302]\n"
     ]
    }
   ],
   "source": [
    "print(lat_cidade)\n",
    "print(lon_cidade)\n",
    "print(taxa_de_var_temp)"
   ]
  },
  {
   "cell_type": "code",
   "execution_count": 35,
   "metadata": {
    "collapsed": false
   },
   "outputs": [
    {
     "ename": "NameError",
     "evalue": "name 'bm' is not defined",
     "output_type": "error",
     "traceback": [
      "\u001b[1;31m\u001b[0m",
      "\u001b[1;31mNameError\u001b[0mTraceback (most recent call last)",
      "\u001b[1;32m<ipython-input-35-ee1f5501de08>\u001b[0m in \u001b[0;36m<module>\u001b[1;34m()\u001b[0m\n\u001b[0;32m      1\u001b[0m \u001b[0mplt\u001b[0m\u001b[1;33m.\u001b[0m\u001b[0mfigure\u001b[0m\u001b[1;33m(\u001b[0m\u001b[1;33m)\u001b[0m\u001b[1;33m\u001b[0m\u001b[0m\n\u001b[1;32m----> 2\u001b[1;33m \u001b[0mbm\u001b[0m\u001b[1;33m.\u001b[0m\u001b[0mscatter\u001b[0m\u001b[1;33m(\u001b[0m\u001b[0mlon_cidade\u001b[0m\u001b[1;33m,\u001b[0m \u001b[0mlat_cidade\u001b[0m\u001b[1;33m,\u001b[0m \u001b[0mcidade\u001b[0m\u001b[1;33m,\u001b[0m \u001b[0ms\u001b[0m\u001b[1;33m=\u001b[0m\u001b[1;36m40\u001b[0m\u001b[1;33m,\u001b[0m \u001b[0mc\u001b[0m\u001b[1;33m=\u001b[0m\u001b[0mtaxa_de_var_temp\u001b[0m\u001b[1;33m,\u001b[0m \u001b[0mcmap\u001b[0m\u001b[1;33m=\u001b[0m\u001b[1;34m\"Reds\"\u001b[0m\u001b[1;33m,\u001b[0m \u001b[0mlatlon\u001b[0m\u001b[1;33m=\u001b[0m\u001b[1;32mTrue\u001b[0m\u001b[1;33m)\u001b[0m\u001b[1;33m\u001b[0m\u001b[0m\n\u001b[0m\u001b[0;32m      3\u001b[0m \u001b[0mcb\u001b[0m \u001b[1;33m=\u001b[0m \u001b[0mplt\u001b[0m\u001b[1;33m.\u001b[0m\u001b[0mcolorbar\u001b[0m\u001b[1;33m(\u001b[0m\u001b[0mpad\u001b[0m\u001b[1;33m=\u001b[0m\u001b[1;36m0\u001b[0m\u001b[1;33m,\u001b[0m \u001b[0maspect\u001b[0m\u001b[1;33m=\u001b[0m\u001b[1;36m10\u001b[0m\u001b[1;33m)\u001b[0m\u001b[1;33m\u001b[0m\u001b[0m\n\u001b[0;32m      4\u001b[0m \u001b[0mcb\u001b[0m\u001b[1;33m.\u001b[0m\u001b[0mset_label\u001b[0m\u001b[1;33m(\u001b[0m\u001b[1;34m\"°C/Ano\"\u001b[0m\u001b[1;33m)\u001b[0m\u001b[1;33m\u001b[0m\u001b[0m\n\u001b[0;32m      5\u001b[0m \u001b[0mbm\u001b[0m\u001b[1;33m.\u001b[0m\u001b[0mdrawcoastlines\u001b[0m\u001b[1;33m(\u001b[0m\u001b[0mlinewidth\u001b[0m\u001b[1;33m=\u001b[0m\u001b[1;36m0.6\u001b[0m\u001b[1;33m)\u001b[0m\u001b[1;33m\u001b[0m\u001b[0m\n",
      "\u001b[1;31mNameError\u001b[0m: name 'bm' is not defined"
     ]
    },
    {
     "data": {
      "text/plain": [
       "<matplotlib.figure.Figure at 0x245770cc320>"
      ]
     },
     "metadata": {},
     "output_type": "display_data"
    }
   ],
   "source": [
    "plt.figure()\n",
    "bm.scatter(lon_cidade, lat_cidade, cidade, s=40, c=taxa_de_var_temp, cmap=\"Reds\", latlon=True)\n",
    "cb = plt.colorbar(pad=0, aspect=10)\n",
    "cb.set_label(\"°C/Ano\")\n",
    "bm.drawcoastlines(linewidth=0.6)\n",
    "bm.drawcountries()\n",
    "bm.drawstates(linewidth=0.3)"
   ]
  },
  {
   "cell_type": "code",
   "execution_count": null,
   "metadata": {
    "collapsed": true
   },
   "outputs": [],
   "source": []
  }
 ],
 "metadata": {
  "anaconda-cloud": {},
  "kernelspec": {
   "display_name": "Python [Root]",
   "language": "python",
   "name": "Python [Root]"
  },
  "language_info": {
   "codemirror_mode": {
    "name": "ipython",
    "version": 3
   },
   "file_extension": ".py",
   "mimetype": "text/x-python",
   "name": "python",
   "nbconvert_exporter": "python",
   "pygments_lexer": "ipython3",
   "version": "3.5.2"
  }
 },
 "nbformat": 4,
 "nbformat_minor": 0
}
